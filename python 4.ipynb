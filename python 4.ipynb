{
 "cells": [
  {
   "cell_type": "markdown",
   "metadata": {},
   "source": [
    "# boolean methods\n",
    "### islower()  -- method returns output either true or false. if it is true then given character is lower case character if not then it is upper case character "
   ]
  },
  {
   "cell_type": "code",
   "execution_count": 3,
   "metadata": {},
   "outputs": [
    {
     "name": "stdout",
     "output_type": "stream",
     "text": [
      "False\n",
      "True\n"
     ]
    }
   ],
   "source": [
    "s='Python is easy programme'\n",
    "s1=\"python\"\n",
    "print(s. islower())\n",
    "print(s1. islower())"
   ]
  },
  {
   "cell_type": "markdown",
   "metadata": {},
   "source": [
    "### isupper() -- "
   ]
  },
  {
   "cell_type": "code",
   "execution_count": 4,
   "metadata": {},
   "outputs": [
    {
     "name": "stdout",
     "output_type": "stream",
     "text": [
      "True\n",
      "False\n"
     ]
    }
   ],
   "source": [
    "s=\"APPLICATION\"\n",
    "s1=\"Application\"\n",
    "print(s. isupper())\n",
    "print(s1. isupper())"
   ]
  },
  {
   "cell_type": "markdown",
   "metadata": {},
   "source": [
    "### isnumeric() --"
   ]
  },
  {
   "cell_type": "code",
   "execution_count": 5,
   "metadata": {},
   "outputs": [
    {
     "name": "stdout",
     "output_type": "stream",
     "text": [
      "True\n",
      "False\n"
     ]
    }
   ],
   "source": [
    "s=\"1346\"\n",
    "s1=\"aplly657\"\n",
    "print(s. isnumeric())\n",
    "print(s1. isnumeric())\n"
   ]
  },
  {
   "cell_type": "markdown",
   "metadata": {},
   "source": [
    "# string functions\n",
    "### 1.join()  :  method will concatinate two strings\n",
    "### 2.split()  : return string with white spaces if there are no parameters\n",
    "### 3.replace() : replace original string with new string"
   ]
  },
  {
   "cell_type": "code",
   "execution_count": 7,
   "metadata": {},
   "outputs": [
    {
     "name": "stdout",
     "output_type": "stream",
     "text": [
      "p y t h o n\n"
     ]
    }
   ],
   "source": [
    "str = \"python\"\n",
    "print(\" \".join(str))"
   ]
  },
  {
   "cell_type": "code",
   "execution_count": 8,
   "metadata": {},
   "outputs": [
    {
     "name": "stdout",
     "output_type": "stream",
     "text": [
      "python,programming,easy\n"
     ]
    }
   ],
   "source": [
    "print(\",\".join([\"python\",\"programming\",\"easy\"]))"
   ]
  },
  {
   "cell_type": "code",
   "execution_count": 9,
   "metadata": {},
   "outputs": [
    {
     "name": "stdout",
     "output_type": "stream",
     "text": [
      ",\n"
     ]
    }
   ],
   "source": [
    "lst=[\",\"]\n",
    "print(\" \".join(lst))"
   ]
  },
  {
   "cell_type": "code",
   "execution_count": 12,
   "metadata": {},
   "outputs": [
    {
     "name": "stdout",
     "output_type": "stream",
     "text": [
      "['python', 'programme', 'is', 'easy', 'to', 'learn']\n",
      "['python progr', 'mme is e', 'sy to le', 'rn']\n",
      "['python programme is easy to learn']\n"
     ]
    }
   ],
   "source": [
    "s=\"python programme is easy to learn\"\n",
    "print(s.split())\n",
    "print(s.split(\"a\"))\n",
    "print(s.split(\",\"))"
   ]
  },
  {
   "cell_type": "code",
   "execution_count": 16,
   "metadata": {},
   "outputs": [
    {
     "name": "stdout",
     "output_type": "stream",
     "text": [
      "['python', 'programming', 'is', 'easy', 'to', 'learn']\n",
      "2\n"
     ]
    }
   ],
   "source": [
    "s=\"python programming is easy to learn\"\n",
    "lst= s.split()\n",
    "print(lst)\n",
    "print(lst.index(\"is\"))"
   ]
  },
  {
   "cell_type": "code",
   "execution_count": 17,
   "metadata": {},
   "outputs": [
    {
     "name": "stdout",
     "output_type": "stream",
     "text": [
      "['p', 'y', 't', 'h', 'o', 'n', ' ', 'p', 'r', 'o', 'g', 'r', 'a', 'm', 'm', 'i', 'n', 'g', ' ', 'i', 's', ' ', 'e', 'a', 's', 'y', ' ', 't', 'o', ' ', 'l', 'e', 'a', 'r', 'n']\n"
     ]
    }
   ],
   "source": [
    "s=\"python programming is easy to learn\"\n",
    "lst=list(s)\n",
    "print(lst)"
   ]
  },
  {
   "cell_type": "code",
   "execution_count": 18,
   "metadata": {},
   "outputs": [
    {
     "name": "stdout",
     "output_type": "stream",
     "text": [
      "python proapplicationmming\n"
     ]
    }
   ],
   "source": [
    "s=\"python programming\"\n",
    "print(s.replace(\"gra\",\"application\"))"
   ]
  },
  {
   "cell_type": "markdown",
   "metadata": {},
   "source": [
    "## python ---  tuples"
   ]
  },
  {
   "cell_type": "markdown",
   "metadata": {},
   "source": [
    "### a sequence of set of objects is similar to list only\n",
    "### the difrences of list and tuples are cannot be changed in unlike list\n",
    "### list will be in square brackets[] wheraas tuples use paranthesis to hold the set of objects ()\n"
   ]
  },
  {
   "cell_type": "code",
   "execution_count": 20,
   "metadata": {},
   "outputs": [
    {
     "name": "stdout",
     "output_type": "stream",
     "text": [
      "('python programming', 1989, 2019, 'machine learning', 'AI')\n",
      "(1, 2, 3, 4)\n"
     ]
    }
   ],
   "source": [
    "t1=(\"python programming\",1989,2019,\"machine learning\",\"AI\")\n",
    "t2=(1,2,3,4)\n",
    "print(t1)\n",
    "print(t2)"
   ]
  },
  {
   "cell_type": "code",
   "execution_count": 26,
   "metadata": {},
   "outputs": [
    {
     "name": "stdout",
     "output_type": "stream",
     "text": [
      "t1[0]= python programming\n",
      "t1[2]= 2019\n",
      "t1[-1]= AI\n",
      "t1[1:4]= (1989, 2019, 'machine learning')\n",
      "t1[2:-2]= (2019,)\n",
      "t1[1:-3]= (1989,)\n"
     ]
    }
   ],
   "source": [
    "t1=(\"python programming\",1989,2019,\"machine learning\",\"AI\")\n",
    "print(\"t1[0]=\",t1[0])\n",
    "print(\"t1[2]=\",t1[2])\n",
    "print(\"t1[-1]=\",t1[-1])\n",
    "print(\"t1[1:4]=\",t1[1:4])\n",
    "print(\"t1[2:-2]=\",t1[2:-2])\n",
    "print(\"t1[1:-3]=\",t1[1:-3])"
   ]
  },
  {
   "cell_type": "code",
   "execution_count": 27,
   "metadata": {},
   "outputs": [
    {
     "name": "stdout",
     "output_type": "stream",
     "text": [
      "('python', 'programming', 1989, 2019, 'ml', 'ai')\n"
     ]
    }
   ],
   "source": [
    "t1=(\"python\",\"programming\")\n",
    "t2=(1989,2019,\"ml\",\"ai\")\n",
    "t3=t1+t2\n",
    "print(t3)"
   ]
  },
  {
   "cell_type": "markdown",
   "metadata": {},
   "source": [
    "## tuple methods\n",
    "### 1.len(tuple) -- length of tuple\n",
    "### 2.max(tuple)-- return max value from tuple\n",
    "### 3.min(tuple)-- return min value from tuple"
   ]
  },
  {
   "cell_type": "code",
   "execution_count": 28,
   "metadata": {},
   "outputs": [
    {
     "name": "stdout",
     "output_type": "stream",
     "text": [
      "4\n",
      "7\n",
      "1\n"
     ]
    }
   ],
   "source": [
    "t1=(1,3,6,7)\n",
    "print(len(t1))\n",
    "print(max(t1))\n",
    "print(min(t1))"
   ]
  },
  {
   "cell_type": "code",
   "execution_count": 29,
   "metadata": {},
   "outputs": [
    {
     "name": "stdout",
     "output_type": "stream",
     "text": [
      "(1, 2, 3, 4, 5)\n",
      "(5, 4, 3, 2, 1)\n"
     ]
    },
    {
     "ename": "NameError",
     "evalue": "name 'cmp' is not defined",
     "output_type": "error",
     "traceback": [
      "\u001b[1;31m---------------------------------------------------------------------------\u001b[0m",
      "\u001b[1;31mNameError\u001b[0m                                 Traceback (most recent call last)",
      "\u001b[1;32m<ipython-input-29-d1ebd6828dc9>\u001b[0m in \u001b[0;36m<module>\u001b[1;34m\u001b[0m\n\u001b[0;32m      3\u001b[0m \u001b[0mprint\u001b[0m\u001b[1;33m(\u001b[0m\u001b[0mt1\u001b[0m\u001b[1;33m)\u001b[0m\u001b[1;33m\u001b[0m\u001b[1;33m\u001b[0m\u001b[0m\n\u001b[0;32m      4\u001b[0m \u001b[0mprint\u001b[0m\u001b[1;33m(\u001b[0m\u001b[0mt2\u001b[0m\u001b[1;33m)\u001b[0m\u001b[1;33m\u001b[0m\u001b[1;33m\u001b[0m\u001b[0m\n\u001b[1;32m----> 5\u001b[1;33m \u001b[0ma\u001b[0m\u001b[1;33m=\u001b[0m\u001b[0mcmp\u001b[0m\u001b[1;33m(\u001b[0m\u001b[0mt1\u001b[0m\u001b[1;33m,\u001b[0m\u001b[0mt2\u001b[0m\u001b[1;33m)\u001b[0m\u001b[1;33m\u001b[0m\u001b[1;33m\u001b[0m\u001b[0m\n\u001b[0m\u001b[0;32m      6\u001b[0m \u001b[0mprint\u001b[0m\u001b[1;33m(\u001b[0m\u001b[0ma\u001b[0m\u001b[1;33m)\u001b[0m\u001b[1;33m\u001b[0m\u001b[1;33m\u001b[0m\u001b[0m\n",
      "\u001b[1;31mNameError\u001b[0m: name 'cmp' is not defined"
     ]
    }
   ],
   "source": [
    "t1=( 1,2,3,4,5)\n",
    "t2=(5,4,3,2,1)\n",
    "print(t1)\n",
    "print(t2)\n",
    "a=cmp(t1,t2)\n",
    "print(a)"
   ]
  },
  {
   "cell_type": "markdown",
   "metadata": {},
   "source": [
    "## python dictionary\n",
    "#### each key is seperated with value by colon(:)\n",
    "#### user data can be seperated from comma(,)"
   ]
  },
  {
   "cell_type": "code",
   "execution_count": 34,
   "metadata": {},
   "outputs": [
    {
     "name": "stdout",
     "output_type": "stream",
     "text": [
      "user1[name]= anil\n",
      "user1[age]= 29\n",
      "user1[emailid]= anil@gmail.com\n",
      "user1[mobile number]= 9546372190\n"
     ]
    }
   ],
   "source": [
    "user1={'name':'anil','age':29,'emailid':'anil@gmail.com','mobile number':'9546372190'}\n",
    "print(\"user1[name]=\",user1['name'])\n",
    "print(\"user1[age]=\",user1['age'])\n",
    "print(\"user1[emailid]=\",user1['emailid'])\n",
    "print(\"user1[mobile number]=\",user1['mobile number'])"
   ]
  },
  {
   "cell_type": "markdown",
   "metadata": {},
   "source": [
    "## methods\n",
    "#### 1.len() : returns a number which is having a length\n"
   ]
  },
  {
   "cell_type": "code",
   "execution_count": 37,
   "metadata": {},
   "outputs": [
    {
     "name": "stdout",
     "output_type": "stream",
     "text": [
      "4\n"
     ]
    }
   ],
   "source": [
    "user1={'name':'anil','age':29,'emailid':'anil@gmail.com','mobile number':'9546372190'}\n",
    "print(len(user1))"
   ]
  },
  {
   "cell_type": "markdown",
   "metadata": {},
   "source": [
    "#### 2.str(dic(obj)) : return the eual string to dictionary objest\n",
    "#### 3.copy() : copies the one dic data to another dic data\n",
    "#### 4.items() : returns a list"
   ]
  },
  {
   "cell_type": "code",
   "execution_count": 39,
   "metadata": {},
   "outputs": [
    {
     "name": "stdout",
     "output_type": "stream",
     "text": [
      "{'name': 'anil', 'age': 29, 'emailid': 'anil@gmail.com', 'mobile number': '9546372190'}\n",
      "{'name': 'anil', 'age': 29, 'emailid': 'anil@gmail.com', 'mobile number': '9546372190'}\n"
     ]
    }
   ],
   "source": [
    "user1={'name':'anil','age':29,'emailid':'anil@gmail.com','mobile number':'9546372190'}\n",
    "user2=user1.copy()\n",
    "\n",
    "print(user1)\n",
    "print(user2)"
   ]
  },
  {
   "cell_type": "code",
   "execution_count": 40,
   "metadata": {},
   "outputs": [
    {
     "name": "stdout",
     "output_type": "stream",
     "text": [
      "dict_items([('name', 'anil'), ('age', 29), ('emailid', 'anil@gmail.com'), ('mobile number', '9546372190')])\n"
     ]
    }
   ],
   "source": [
    "user1={'name':'anil','age':29,'emailid':'anil@gmail.com','mobile number':'9546372190'}\n",
    "print(user1.items())"
   ]
  },
  {
   "cell_type": "markdown",
   "metadata": {},
   "source": [
    "## string formatting\n",
    "### %s %d"
   ]
  },
  {
   "cell_type": "code",
   "execution_count": 41,
   "metadata": {},
   "outputs": [
    {
     "name": "stdout",
     "output_type": "stream",
     "text": [
      "python programming\n"
     ]
    }
   ],
   "source": [
    "lst=['python','programming']\n",
    "print(\"%s %s\"%(lst[0],lst[1]))"
   ]
  },
  {
   "cell_type": "code",
   "execution_count": 43,
   "metadata": {},
   "outputs": [
    {
     "name": "stdout",
     "output_type": "stream",
     "text": [
      "pythonprogramming\n"
     ]
    }
   ],
   "source": [
    "lst=['python','programming']\n",
    "print(\"{0}{1}\".format(lst[0],lst[1]))"
   ]
  },
  {
   "cell_type": "code",
   "execution_count": 7,
   "metadata": {},
   "outputs": [
    {
     "name": "stdout",
     "output_type": "stream",
     "text": [
      "contact anil added\n",
      "contact ajay added\n",
      "contact bindu added\n",
      "contact ravi added\n"
     ]
    },
    {
     "data": {
      "text/plain": [
       "{'anil': 9564738291,\n",
       " 'ajay': 9847623450,\n",
       " 'bindu': 9440331581,\n",
       " 'ravi': 9848677627}"
      ]
     },
     "execution_count": 7,
     "metadata": {},
     "output_type": "execute_result"
    }
   ],
   "source": [
    "contact={}\n",
    "def addcontact(name,phone):\n",
    "    if name not in contact:\n",
    "        print(\"contact %s added\"%name)\n",
    "        contact[name]=phone\n",
    "    else:\n",
    "        print(\"contact %s already exists\"%name)\n",
    "    return contact\n",
    "addcontact(\"anil\",9564738291)\n",
    "addcontact(\"ajay\",9847623450)\n",
    "addcontact(\"bindu\",9440331581)\n",
    "addcontact(\"ravi\",9848677627)"
   ]
  },
  {
   "cell_type": "code",
   "execution_count": 9,
   "metadata": {},
   "outputs": [
    {
     "name": "stdout",
     "output_type": "stream",
     "text": [
      "anil : 9564738291\n",
      "ajay : 9847623450\n",
      "naveen doesnot exist\n"
     ]
    }
   ],
   "source": [
    "def searchcontact(name):\n",
    "    if name in contact:\n",
    "        print(name,\":\",contact[name])\n",
    "    else:\n",
    "        print(\"%s doesnot exist\"%name)\n",
    "    return\n",
    "searchcontact(\"anil\")\n",
    "searchcontact(\"ajay\")\n",
    "searchcontact(\"naveen\")"
   ]
  },
  {
   "cell_type": "code",
   "execution_count": 6,
   "metadata": {},
   "outputs": [
    {
     "name": "stdout",
     "output_type": "stream",
     "text": [
      "harsha is not exists in contact\n",
      "ajay is deleted from contact\n"
     ]
    }
   ],
   "source": [
    "def deletecontact(name):\n",
    "    if name in contact:\n",
    "        del contact[name]\n",
    "        print(name,\"is deleted from contact\")\n",
    "    else:\n",
    "        print(name,\"is not exists in contact\")\n",
    "    return\n",
    "deletecontact(\"harsha\")\n",
    "deletecontact(\"ajay\")"
   ]
  },
  {
   "cell_type": "code",
   "execution_count": 11,
   "metadata": {},
   "outputs": [
    {
     "name": "stdout",
     "output_type": "stream",
     "text": [
      "ravi :updated with new phone number\n",
      "ajay :updated with new phone number\n"
     ]
    }
   ],
   "source": [
    "def updatecontact(name,phone):\n",
    "    if name in contact:\n",
    "        contact[name]=phone\n",
    "        print(name,\":updated with new phone number\")\n",
    "    else:\n",
    "        print(name,\"not in contact\")\n",
    "    return\n",
    "updatecontact(\"ravi\",8331921582)\n",
    "updatecontact(\"ajay\",9567478321)"
   ]
  },
  {
   "cell_type": "code",
   "execution_count": 14,
   "metadata": {},
   "outputs": [
    {
     "name": "stdout",
     "output_type": "stream",
     "text": [
      "16 32 90 101 103 75 19 70 43 57 "
     ]
    }
   ],
   "source": [
    "# generate random numbers between two limits\n",
    "import random\n",
    "def genrandomnum(n,lb,ub):\n",
    "    for i in range(0,n):\n",
    "        print(random.randint(lb,ub),end=\" \")\n",
    "    return\n",
    "genrandomnum(10,12,120)"
   ]
  },
  {
   "cell_type": "code",
   "execution_count": 15,
   "metadata": {},
   "outputs": [
    {
     "name": "stdout",
     "output_type": "stream",
     "text": [
      "120\n",
      "9.0\n",
      "1.0\n",
      "-0.9524129804151563\n",
      "-0.3048106211022167\n",
      "5.0\n",
      "572.9577951308232\n",
      "12\n",
      "1\n"
     ]
    }
   ],
   "source": [
    "import math\n",
    "print(math.factorial(5))\n",
    "print(math.pow(3,2))\n",
    "print(math.exp(0))\n",
    "print(math.cos(60))\n",
    "print(math.sin(60))\n",
    "print(math.fabs(5))\n",
    "print(math.degrees(10))\n",
    "print(math.ceil(12))\n",
    "print(math.gcd(7,8))"
   ]
  },
  {
   "cell_type": "code",
   "execution_count": null,
   "metadata": {},
   "outputs": [],
   "source": []
  }
 ],
 "metadata": {
  "kernelspec": {
   "display_name": "Python 3",
   "language": "python",
   "name": "python3"
  },
  "language_info": {
   "codemirror_mode": {
    "name": "ipython",
    "version": 3
   },
   "file_extension": ".py",
   "mimetype": "text/x-python",
   "name": "python",
   "nbconvert_exporter": "python",
   "pygments_lexer": "ipython3",
   "version": "3.7.3"
  }
 },
 "nbformat": 4,
 "nbformat_minor": 2
}
