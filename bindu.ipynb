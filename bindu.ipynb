{
 "cells": [
  {
   "cell_type": "code",
   "execution_count": null,
   "metadata": {},
   "outputs": [],
   "source": [
    "# x=10\n",
    "y=20\n",
    "sum=x+y\n",
    "multiply=x*y\n",
    "print(sum)\n",
    "print(multiplication)"
   ]
  },
  {
   "cell_type": "code",
   "execution_count": 2,
   "metadata": {},
   "outputs": [
    {
     "name": "stdout",
     "output_type": "stream",
     "text": [
      "200\n"
     ]
    }
   ],
   "source": [
    "print(x*y)"
   ]
  },
  {
   "cell_type": "code",
   "execution_count": 3,
   "metadata": {},
   "outputs": [
    {
     "name": "stdout",
     "output_type": "stream",
     "text": [
      "10\n"
     ]
    }
   ],
   "source": [
    "print(x%y)"
   ]
  },
  {
   "cell_type": "code",
   "execution_count": 4,
   "metadata": {},
   "outputs": [
    {
     "name": "stdout",
     "output_type": "stream",
     "text": [
      "32\n"
     ]
    }
   ],
   "source": [
    "x=2\n",
    "res=x**5\n",
    "print(res)"
   ]
  },
  {
   "cell_type": "code",
   "execution_count": 5,
   "metadata": {},
   "outputs": [
    {
     "name": "stdout",
     "output_type": "stream",
     "text": [
      "2.2222222222222223\n"
     ]
    }
   ],
   "source": [
    "x=20\n",
    "res=x/9\n",
    "print(res)"
   ]
  },
  {
   "cell_type": "code",
   "execution_count": 6,
   "metadata": {},
   "outputs": [
    {
     "name": "stdout",
     "output_type": "stream",
     "text": [
      "2\n"
     ]
    }
   ],
   "source": [
    "res=x//9\n",
    "print(res)"
   ]
  },
  {
   "cell_type": "code",
   "execution_count": 7,
   "metadata": {},
   "outputs": [
    {
     "name": "stdout",
     "output_type": "stream",
     "text": [
      "11.0\n"
     ]
    }
   ],
   "source": [
    "x=1+2**3/4*5\n",
    "print(x)"
   ]
  },
  {
   "cell_type": "code",
   "execution_count": 8,
   "metadata": {},
   "outputs": [
    {
     "name": "stdout",
     "output_type": "stream",
     "text": [
      "31252.0\n"
     ]
    }
   ],
   "source": [
    "x=2+5**6/4*8\n",
    "print(x)"
   ]
  },
  {
   "cell_type": "code",
   "execution_count": 1,
   "metadata": {},
   "outputs": [
    {
     "name": "stdout",
     "output_type": "stream",
     "text": [
      "True\n"
     ]
    }
   ],
   "source": [
    "x=1\n",
    "res=(x<10)\n",
    "print(res)"
   ]
  },
  {
   "cell_type": "code",
   "execution_count": 2,
   "metadata": {},
   "outputs": [
    {
     "ename": "SyntaxError",
     "evalue": "invalid syntax (<ipython-input-2-e7f6fb6c327c>, line 3)",
     "output_type": "error",
     "traceback": [
      "\u001b[1;36m  File \u001b[1;32m\"<ipython-input-2-e7f6fb6c327c>\"\u001b[1;36m, line \u001b[1;32m3\u001b[0m\n\u001b[1;33m    res=(x=y)\u001b[0m\n\u001b[1;37m          ^\u001b[0m\n\u001b[1;31mSyntaxError\u001b[0m\u001b[1;31m:\u001b[0m invalid syntax\n"
     ]
    }
   ],
   "source": [
    "x=10\n",
    "y=20\n",
    "res=(x=y)\n",
    "print(res)"
   ]
  },
  {
   "cell_type": "code",
   "execution_count": 3,
   "metadata": {},
   "outputs": [
    {
     "name": "stdout",
     "output_type": "stream",
     "text": [
      "False\n"
     ]
    }
   ],
   "source": [
    "x=10\n",
    "y=20\n",
    "res =(x==y)\n",
    "print(res)"
   ]
  },
  {
   "cell_type": "markdown",
   "metadata": {},
   "source": [
    "# logical operators"
   ]
  },
  {
   "cell_type": "markdown",
   "metadata": {},
   "source": [
    "### and\n",
    "### or\n",
    "### not"
   ]
  },
  {
   "cell_type": "code",
   "execution_count": 7,
   "metadata": {},
   "outputs": [
    {
     "name": "stdout",
     "output_type": "stream",
     "text": [
      "True\n"
     ]
    }
   ],
   "source": [
    "x=10\n",
    "res=(x<15) and (x<58)\n",
    "print(res)"
   ]
  },
  {
   "cell_type": "code",
   "execution_count": 8,
   "metadata": {},
   "outputs": [
    {
     "name": "stdout",
     "output_type": "stream",
     "text": [
      "True\n"
     ]
    }
   ],
   "source": [
    "x=12\n",
    "res=(x>9) and (x<16)\n",
    "print(res)"
   ]
  },
  {
   "cell_type": "code",
   "execution_count": 11,
   "metadata": {},
   "outputs": [
    {
     "name": "stdout",
     "output_type": "stream",
     "text": [
      "True\n"
     ]
    }
   ],
   "source": [
    "x=12\n",
    "res=(x>9) or (x>16)\n",
    "print(res)"
   ]
  },
  {
   "cell_type": "code",
   "execution_count": 13,
   "metadata": {},
   "outputs": [
    {
     "name": "stdout",
     "output_type": "stream",
     "text": [
      "False\n"
     ]
    }
   ],
   "source": [
    "x=True\n",
    "res=not(x)\n",
    "print(res)"
   ]
  },
  {
   "cell_type": "markdown",
   "metadata": {},
   "source": [
    "## control flow statements\n",
    "  if(condition);set of statemnts"
   ]
  },
  {
   "cell_type": "code",
   "execution_count": 3,
   "metadata": {},
   "outputs": [
    {
     "name": "stdout",
     "output_type": "stream",
     "text": [
      "the number is less than 15\n"
     ]
    }
   ],
   "source": [
    "x=10;\n",
    "if(x<15):\n",
    "   print(\"the number is less than 15\");"
   ]
  },
  {
   "cell_type": "code",
   "execution_count": 4,
   "metadata": {},
   "outputs": [],
   "source": [
    "x=10;\n",
    "if(x>15):\n",
    "    print(\"hello\");"
   ]
  },
  {
   "cell_type": "code",
   "execution_count": 5,
   "metadata": {},
   "outputs": [
    {
     "name": "stdout",
     "output_type": "stream",
     "text": [
      "hello good afternoon\n"
     ]
    }
   ],
   "source": [
    "x=10;\n",
    "if(x>15):\n",
    "    print(\"hello good morning\");\n",
    "else:\n",
    "    print(\"hello good afternoon\");"
   ]
  },
  {
   "cell_type": "code",
   "execution_count": 6,
   "metadata": {},
   "outputs": [
    {
     "name": "stdout",
     "output_type": "stream",
     "text": [
      "y is greater\n"
     ]
    }
   ],
   "source": [
    "x=10;\n",
    "y=16;\n",
    "if(x>y):\n",
    "    print(\"x is greater\");\n",
    "else:\n",
    "    print(\"y is greater\");"
   ]
  },
  {
   "cell_type": "markdown",
   "metadata": {},
   "source": [
    "# example\n",
    "### if both numbers are same then first number should be square of second if not same both must be multiplied"
   ]
  },
  {
   "cell_type": "code",
   "execution_count": 7,
   "metadata": {},
   "outputs": [
    {
     "name": "stdout",
     "output_type": "stream",
     "text": [
      "160\n"
     ]
    }
   ],
   "source": [
    "if(x==y):\n",
    "    print(x*x)\n",
    "else:\n",
    "    print(x*y)"
   ]
  },
  {
   "cell_type": "markdown",
   "metadata": {},
   "source": [
    "### read a number as input we are lokking for a number if it is zero or positive or negative"
   ]
  },
  {
   "cell_type": "code",
   "execution_count": 9,
   "metadata": {},
   "outputs": [
    {
     "name": "stdout",
     "output_type": "stream",
     "text": [
      "x is positive\n"
     ]
    }
   ],
   "source": [
    "x=5\n",
    "if(x==0):\n",
    "    print(\"x is zero\");\n",
    "elif(x<0):\n",
    "    print(\"x is negative\");\n",
    "else:\n",
    "    print(\"x is positive\");"
   ]
  },
  {
   "cell_type": "markdown",
   "metadata": {},
   "source": [
    "# 2.Looping statements\n",
    "\n",
    "\n",
    "     while(condition):\n",
    "     statements\n",
    "     increment/decrement\n",
    "## the loop will get executed aslong as the condition is return true and it terminates if it is false    \n",
    "     \n",
    "     "
   ]
  },
  {
   "cell_type": "code",
   "execution_count": 10,
   "metadata": {},
   "outputs": [
    {
     "name": "stdout",
     "output_type": "stream",
     "text": [
      "1\n",
      "2\n",
      "3\n",
      "4\n",
      "5\n",
      "6\n",
      "7\n",
      "8\n",
      "9\n",
      "10\n"
     ]
    }
   ],
   "source": [
    "n=1;\n",
    "while(n<=10):\n",
    "    print(n);\n",
    "    n=n+1;\n",
    "    "
   ]
  },
  {
   "cell_type": "markdown",
   "metadata": {},
   "source": [
    "### print the numbers from 10 to 1"
   ]
  },
  {
   "cell_type": "code",
   "execution_count": 1,
   "metadata": {},
   "outputs": [
    {
     "name": "stdout",
     "output_type": "stream",
     "text": [
      "10\n",
      "9\n",
      "8\n",
      "7\n",
      "6\n",
      "5\n",
      "4\n",
      "3\n",
      "2\n",
      "1\n"
     ]
    }
   ],
   "source": [
    "n=10;\n",
    "while(n>=1):\n",
    "    print(n);\n",
    "    n=n-1;"
   ]
  },
  {
   "cell_type": "markdown",
   "metadata": {},
   "source": [
    "### print numbers from -22 to -45"
   ]
  },
  {
   "cell_type": "code",
   "execution_count": 2,
   "metadata": {},
   "outputs": [
    {
     "name": "stdout",
     "output_type": "stream",
     "text": [
      "-22\n",
      "-23\n",
      "-24\n",
      "-25\n",
      "-26\n",
      "-27\n",
      "-28\n",
      "-29\n",
      "-30\n",
      "-31\n",
      "-32\n",
      "-33\n",
      "-34\n",
      "-35\n",
      "-36\n",
      "-37\n",
      "-38\n",
      "-39\n",
      "-40\n",
      "-41\n",
      "-42\n",
      "-43\n",
      "-44\n",
      "-45\n"
     ]
    }
   ],
   "source": [
    "n=-22\n",
    "while(n>=-45):\n",
    "    print(n)\n",
    "    n=n-1"
   ]
  },
  {
   "cell_type": "markdown",
   "metadata": {},
   "source": [
    "## print sumof even numbers b/w 1 to 100"
   ]
  },
  {
   "cell_type": "code",
   "execution_count": 5,
   "metadata": {},
   "outputs": [
    {
     "name": "stdout",
     "output_type": "stream",
     "text": [
      "2450\n"
     ]
    }
   ],
   "source": [
    "x=1\n",
    "sum=0\n",
    "while(x<100):\n",
    "    if(x%2==0):\n",
    "        sum =sum+x\n",
    "    x=x+1\n",
    "print(sum)"
   ]
  },
  {
   "cell_type": "markdown",
   "metadata": {},
   "source": [
    "### input:number\n",
    "### output: extract the digits of number from right side\n",
    "###    145 -- 541\n",
    "###     981 -- 189"
   ]
  },
  {
   "cell_type": "code",
   "execution_count": 12,
   "metadata": {},
   "outputs": [
    {
     "name": "stdout",
     "output_type": "stream",
     "text": [
      "145\n"
     ]
    }
   ],
   "source": [
    "Number = 541 ;  \n",
    "Reverse = 0    \n",
    "while(Number > 0):    \n",
    "    Reminder = Number %10    \n",
    "    Reverse = (Reverse *10) + Reminder    \n",
    "    Number = Number //10    \n",
    "     \n",
    "print(Reverse);   "
   ]
  },
  {
   "cell_type": "markdown",
   "metadata": {},
   "source": [
    "### input:\n",
    "### output: you need to add sum of even numbers in given number\n",
    "### test cases:\n",
    "###     145  ---  4\n",
    "###      1889 --- 16\n",
    "###     1951 ----  0\n"
   ]
  },
  {
   "cell_type": "code",
   "execution_count": 14,
   "metadata": {},
   "outputs": [
    {
     "name": "stdout",
     "output_type": "stream",
     "text": [
      "Enter a number1881\n",
      "16\n"
     ]
    }
   ],
   "source": [
    "x=int(input(\"Enter a number\"));\n",
    "sum=0\n",
    "while(x!=0):\n",
    "    r=x%10;\n",
    "    if(r%2==0):\n",
    "        sum=sum+r;\n",
    "    x=x//10;\n",
    "print(sum);    "
   ]
  },
  {
   "cell_type": "markdown",
   "metadata": {},
   "source": [
    "#### input: a number\n",
    "#### output: respective name to digit\n",
    "#### 145  ---  five four one\n",
    "#### 1889 --- nine eight eight nine\n",
    "#### 120 --- zero two one"
   ]
  },
  {
   "cell_type": "markdown",
   "metadata": {},
   "source": [
    "## Functional programming:-\n",
    "###  def functionname(<parameters>)"
   ]
  },
  {
   "cell_type": "code",
   "execution_count": 10,
   "metadata": {},
   "outputs": [
    {
     "ename": "SyntaxError",
     "evalue": "'return' outside function (<ipython-input-10-c5866d0fb9e4>, line 8)",
     "output_type": "error",
     "traceback": [
      "\u001b[1;36m  File \u001b[1;32m\"<ipython-input-10-c5866d0fb9e4>\"\u001b[1;36m, line \u001b[1;32m8\u001b[0m\n\u001b[1;33m    return sum;\u001b[0m\n\u001b[1;37m    ^\u001b[0m\n\u001b[1;31mSyntaxError\u001b[0m\u001b[1;31m:\u001b[0m 'return' outside function\n"
     ]
    }
   ],
   "source": [
    "def printeven(n):\n",
    "  cnt=0;\n",
    "  sum=0;\n",
    "while(cnt!=n):\n",
    "    if(cnt%2==0):\n",
    "        sum=sum+cnt;\n",
    "    cnt=cnt+1;\n",
    "    return sum;\n",
    "\n",
    "print(printeven(20));  "
   ]
  },
  {
   "cell_type": "markdown",
   "metadata": {},
   "source": [
    "# factors list of a given number\n",
    "## testcases: 12  --  1 2 3 4 5 6"
   ]
  },
  {
   "cell_type": "code",
   "execution_count": 23,
   "metadata": {},
   "outputs": [
    {
     "name": "stdout",
     "output_type": "stream",
     "text": [
      "1 2 3 4 6 "
     ]
    }
   ],
   "source": [
    "def factorlist(n):\n",
    "    i=1;\n",
    "    while(i!=n):\n",
    "        if(n%i==0):\n",
    "            print(i,end=\" \");\n",
    "        i = i + 1;\n",
    "    return;\n",
    "\n",
    "factorlist(12);"
   ]
  },
  {
   "cell_type": "markdown",
   "metadata": {},
   "source": [
    "### list in python\n",
    "### list can be written in python with square brackets and each itemin list is seperated by comma operator\n",
    "###    [item1,item2,....,itemN]\n",
    "### list can be anything :- int,char,float and  string"
   ]
  },
  {
   "cell_type": "markdown",
   "metadata": {},
   "source": [
    "### examples of list\n",
    "####  list1:-[1,2,3,4]\n",
    "####  list2:-[\"a\",\"b\",\"c\",\"d\"]"
   ]
  },
  {
   "cell_type": "code",
   "execution_count": 27,
   "metadata": {},
   "outputs": [
    {
     "name": "stdout",
     "output_type": "stream",
     "text": [
      "[1, 2, 3, 4, 5]\n",
      "1\n"
     ]
    }
   ],
   "source": [
    "list1=[1,2,3,4,5];\n",
    "#entire list\n",
    "print(list1);\n",
    "#list[0]\n",
    "print(list1[0]);"
   ]
  },
  {
   "cell_type": "code",
   "execution_count": 28,
   "metadata": {},
   "outputs": [
    {
     "name": "stdout",
     "output_type": "stream",
     "text": [
      "akash aravind ajay "
     ]
    }
   ],
   "source": [
    "list2=[\"akash\",\"aravind\",\"ajay\"];\n",
    "for x in list2:\n",
    "    print(x,end=\" \");"
   ]
  },
  {
   "cell_type": "markdown",
   "metadata": {},
   "source": [
    "# for loop\n",
    "## syntax:-\n",
    "                   for<variablename>in <seq>:\n",
    "                       <statements>"
   ]
  },
  {
   "cell_type": "markdown",
   "metadata": {},
   "source": [
    "## list example with particular example"
   ]
  },
  {
   "cell_type": "code",
   "execution_count": 30,
   "metadata": {},
   "outputs": [
    {
     "name": "stdout",
     "output_type": "stream",
     "text": [
      "1 2 3 4 5 6 7 \n",
      "5\n",
      "[4, 5, 6]\n"
     ]
    }
   ],
   "source": [
    "list1=[1,2,3,4,5,6,7]\n",
    "for x in list1:\n",
    "    print(x,end=\" \")\n",
    "    \n",
    "print();    \n",
    "print(list1[4]);  \n",
    "print(list1[3:6]);"
   ]
  },
  {
   "cell_type": "code",
   "execution_count": 34,
   "metadata": {},
   "outputs": [
    {
     "name": "stdout",
     "output_type": "stream",
     "text": [
      "1 2 3 4 5 6 7 8 9 10 \n",
      "[2, 3, 4, 5, 6, 7, 8, 9]\n",
      "[3, 4, 5, 6, 7, 8]\n",
      "[4, 5, 6, 7]\n",
      "[1, 2, 3, 4, 5, 6, 7, 8, 9, 10]\n",
      "10\n"
     ]
    }
   ],
   "source": [
    "list1=[1,2,3,4,5,6,7,8,9,10];\n",
    "for x in list1:\n",
    "    print(x,end=\" \");\n",
    "    \n",
    "print();\n",
    "print(list1[1:-1]);\n",
    "print(list1[2:-2]);\n",
    "print(list1[3:-3]);\n",
    "print(list1[::1]);\n",
    "print(list1[-1]);"
   ]
  },
  {
   "cell_type": "markdown",
   "metadata": {},
   "source": [
    "## list with range() function\n",
    "## range(number):\n",
    "\n",
    "## 0 to number"
   ]
  },
  {
   "cell_type": "code",
   "execution_count": 41,
   "metadata": {},
   "outputs": [
    {
     "name": "stdout",
     "output_type": "stream",
     "text": [
      "['adarsh', 'akhil', 'ajay']\n",
      "['adarsh', 'akhil', 15]\n",
      "['adarsh', 'gitam', 15]\n",
      "[1, 2, 3]\n",
      "['adarsh', 'gitam', 15, 1, 2, 3]\n",
      "['adarsh', 'gitam', 15, 150, 3]\n"
     ]
    }
   ],
   "source": [
    "list1=[\"adarsh\",\"akhil\",\"ajay\"];\n",
    "print(list1);\n",
    "list1[2]=15;\n",
    "print(list1);\n",
    "del list1[2];\n",
    "list1.append(15);\n",
    "list1[1]=\"gitam\";\n",
    "print(list1);\n",
    "list2=[1,2,3];\n",
    "print(list2);\n",
    "print(list1+list2);\n",
    "list1.append(150);\n",
    "list1.append(3);\n",
    "print(list1);"
   ]
  },
  {
   "cell_type": "code",
   "execution_count": 44,
   "metadata": {},
   "outputs": [
    {
     "name": "stdout",
     "output_type": "stream",
     "text": [
      "['gitam', 'python', 'raptor', 1, 5, 'python']\n",
      "['gitam', 'python', 2019, 'raptor', 1, 5, 'python']\n",
      "7\n",
      "['gitam', 'python', 2019, 'raptor', 2020, 1, 5, 'python']\n"
     ]
    }
   ],
   "source": [
    "list1=['gitam','python','raptor',1,5,'python'];\n",
    "print(list1)\n",
    "list1.index(\"python\")\n",
    "list1.index(1)\n",
    "list1.insert(2,2019)\n",
    "print(list1)\n",
    "print(len(list1))\n",
    "list1.insert(4,2020)\n",
    "print(list1)"
   ]
  },
  {
   "cell_type": "markdown",
   "metadata": {},
   "source": [
    "## list methods\n",
    "## remove(obj)\n",
    "### the method removes the passed object fromthe first occurance from left direction\n",
    "\n",
    "## reverse()\n",
    "### the reverse() reverses the object of list "
   ]
  },
  {
   "cell_type": "code",
   "execution_count": 46,
   "metadata": {},
   "outputs": [
    {
     "name": "stdout",
     "output_type": "stream",
     "text": [
      "['gitam', 'python', 'raptor', 1, 5, 'python']\n",
      "['gitam', 'raptor', 1, 5, 'python']\n",
      "['gitam', 'raptor', 1, 5]\n",
      "[5, 1, 'raptor', 'gitam']\n"
     ]
    }
   ],
   "source": [
    "list1=['gitam','python','raptor',1,5,'python'];\n",
    "print(list1)\n",
    "list1.remove(\"python\")\n",
    "print(list1)\n",
    "list1.remove(\"python\")\n",
    "print(list1)\n",
    "\n",
    "list1.reverse()\n",
    "print(list1)"
   ]
  },
  {
   "cell_type": "markdown",
   "metadata": {},
   "source": [
    "#  Data structures \n",
    "## serching the data\n",
    "####              linear search\n",
    "####              binary search\n",
    "## sorting the data\n",
    "## store the data"
   ]
  },
  {
   "cell_type": "markdown",
   "metadata": {},
   "source": [
    "# Linear search:-\n",
    "##   15 12 16 9 2 22 6\n",
    "###   ** linear search algo can be applied on unsorted list\n",
    "###                                                                         sorted list\n",
    "###  it can also be applied on unique list\n",
    "###  *unique list :-all items in list appear only for once\n"
   ]
  },
  {
   "cell_type": "markdown",
   "metadata": {},
   "source": [
    "def linearsearchduplicate(a,taritem):\n",
    "    flag=0\n",
    "    for i in range(len(a)):\n",
    "        if a[i]==taritem:\n",
    "            flag=flag+1\n",
    "    \n",
    "\n",
    "        print(flag)\n",
    "    \n",
    "        \n",
    "a=[23,176,45,89]\n",
    "linearsearchduplicate(a,23)"
   ]
  },
  {
   "cell_type": "markdown",
   "metadata": {},
   "source": [
    "#### example:\n",
    "###  input: list\n",
    "###  indexes of target list\n",
    "### test cases:\n",
    "### [1,5,9,6,5,15,12,5] ,tar=5---------- 1 4 7"
   ]
  },
  {
   "cell_type": "code",
   "execution_count": 63,
   "metadata": {},
   "outputs": [
    {
     "name": "stdout",
     "output_type": "stream",
     "text": [
      "1 4 7 "
     ]
    }
   ],
   "source": [
    "def linearexample1(a,taritem):\n",
    "    for i in (range(len(a))):\n",
    "        if a[i]== taritem:\n",
    "            print(i,end=\" \");\n",
    "    \n",
    "    \n",
    "    \n",
    "\n",
    "    \n",
    "    \n",
    "a=[1,5,9,6,5,15,12,5]\n",
    "linearexample1(a,5)"
   ]
  },
  {
   "cell_type": "markdown",
   "metadata": {},
   "source": [
    "###  input: list\n",
    "### output: sequential character\n",
    "\n",
    "## test cases:\n",
    "[1,5,9,6,5,15,12,5]tar=5---- !! !!!!!! !!!!!!!!"
   ]
  },
  {
   "cell_type": "code",
   "execution_count": 65,
   "metadata": {},
   "outputs": [
    {
     "name": "stdout",
     "output_type": "stream",
     "text": [
      "!! !!!!! !!!!!!!! "
     ]
    }
   ],
   "source": [
    "def linearexample1(a,taritem):\n",
    "    for i in (range(len(a))):\n",
    "        if a[i]== taritem:\n",
    "            print(\"!\"*(i+1),end=\" \");\n",
    "            \n",
    "            \n",
    "            \n",
    "            \n",
    "            \n",
    "            \n",
    "            \n",
    "a=[1,5,9,6,5,15,12,5]\n",
    "linearexample1(a,5)\n",
    "    "
   ]
  },
  {
   "cell_type": "markdown",
   "metadata": {},
   "source": [
    "## input: list\n",
    "## output: as per given\n",
    "\n",
    "\n",
    "### test cases:-\n",
    "[15,12,29,18,36]  ------\n",
    "### a list item should be perfect multiple of 3 and 5\n",
    "### sum of all list items should be perfefect multiple  of 3 and 5"
   ]
  },
  {
   "cell_type": "code",
   "execution_count": 67,
   "metadata": {},
   "outputs": [
    {
     "name": "stdout",
     "output_type": "stream",
     "text": [
      "60\n"
     ]
    }
   ],
   "source": [
    "def linearexample(a):\n",
    "    sum=0\n",
    "    for i in range(len(a)):\n",
    "        if a[i]%3==0 and a[i]%5==0:\n",
    "            sum=sum+a[i]\n",
    "            \n",
    "    return sum\n",
    "a=[15,12,2,9,18,36,45]\n",
    "print(linearexample(a))"
   ]
  },
  {
   "cell_type": "markdown",
   "metadata": {},
   "source": [
    "###  linear search\n",
    "### input:list\n",
    "###  output: formatted output\n",
    " \n",
    "###  test cases\n",
    "##   1,2,3,4,5  --------  1 3 8 15 5"
   ]
  },
  {
   "cell_type": "code",
   "execution_count": 72,
   "metadata": {},
   "outputs": [
    {
     "name": "stdout",
     "output_type": "stream",
     "text": [
      "1 3 8 15 5 "
     ]
    }
   ],
   "source": [
    "def linearformatedoutput(a):\n",
    "        for i in range(len(a)):\n",
    "            if (i==0 or i==len(a)-1):\n",
    "                print(a[i],end=\" \")\n",
    "            else:\n",
    "                print(a[i-1]*a[i+1],end=\" \")\n",
    "    \n",
    "    \n",
    "    \n",
    "    \n",
    "    \n",
    "    \n",
    "    \n",
    "    \n",
    "a=[1,2,3,4,5]\n",
    "linearformatedoutput(a);\n",
    "    "
   ]
  },
  {
   "cell_type": "markdown",
   "metadata": {},
   "source": [
    "### input: list\n",
    "### output: formatted output\n",
    "### test cases:\n",
    "#### [1,6,9,4,16,19,22] --- 1 9 19 22\n",
    "## ** first and last items to be printed as list\n",
    "## ** for middle items need to check both sides of number if it even then print that item then print otherwise skip the item"
   ]
  },
  {
   "cell_type": "code",
   "execution_count": 79,
   "metadata": {},
   "outputs": [
    {
     "name": "stdout",
     "output_type": "stream",
     "text": [
      "1 9 19 22 "
     ]
    }
   ],
   "source": [
    "def linearformattedoutput(a):\n",
    "    for i in range(len(a)):\n",
    "        if(i==0 or i==len(a)-1):\n",
    "            print(a[i],end=\" \")\n",
    "        elif(a[i-1]%2==0 and a[i+1]%2==0):\n",
    "            print(a[i],end=\" \")\n",
    "            \n",
    "a=[1,6,9,4,16,19,22]            \n",
    "linearformattedoutput(a)"
   ]
  },
  {
   "cell_type": "markdown",
   "metadata": {},
   "source": [
    "### input: number\n",
    "### output :is a list\n",
    "\n",
    "\n",
    "## test cases: \n",
    "## 14569----1,4,5,6,9\n",
    "## 19743 ---- 1,9,7,4,3"
   ]
  },
  {
   "cell_type": "code",
   "execution_count": 81,
   "metadata": {},
   "outputs": [
    {
     "name": "stdout",
     "output_type": "stream",
     "text": [
      "enter a number13456\n",
      "[1, 3, 4, 5, 6]\n"
     ]
    }
   ],
   "source": [
    "def numtolist(n):\n",
    "    list=[]\n",
    "    while n!=0:\n",
    "        r=n%10\n",
    "        list.append(r)\n",
    "        n=n//10\n",
    "    list.reverse()\n",
    "    print(list)\n",
    "    \n",
    "    \n",
    "    \n",
    "    \n",
    "n=int(input(\"enter a number\"))\n",
    "numtolist(n)\n",
    "\n",
    "    "
   ]
  },
  {
   "cell_type": "markdown",
   "metadata": {},
   "source": [
    "###  list to num conversion\n",
    "\n",
    "### 1. 1,4,5,6,9  ----- 14569\n",
    "###  2. 1,4,5,6,9 -----  46 (only even numbers considered)\n",
    "### 3.  1,4,5,6,9 ----- 4,6 (only even digits to list)"
   ]
  },
  {
   "cell_type": "code",
   "execution_count": 87,
   "metadata": {},
   "outputs": [
    {
     "name": "stdout",
     "output_type": "stream",
     "text": [
      "1234\n"
     ]
    }
   ],
   "source": [
    "def number(a):\n",
    "    sum=0\n",
    "    for i in range(len(a)):    \n",
    "         sum=sum*10+a[i]\n",
    "    print(sum)\n",
    "a=[1,2,3,4]\n",
    "number(a)"
   ]
  },
  {
   "cell_type": "code",
   "execution_count": 88,
   "metadata": {},
   "outputs": [
    {
     "name": "stdout",
     "output_type": "stream",
     "text": [
      "24\n"
     ]
    }
   ],
   "source": [
    "def evennumber(a):\n",
    "    sum=0\n",
    "    for i in range(len(a)):\n",
    "        if(a[i]%2==0):\n",
    "            sum=sum*10+a[i]\n",
    "    print(sum)\n",
    "a=[1,2,3,4]\n",
    "evennumber(a)"
   ]
  },
  {
   "cell_type": "code",
   "execution_count": 91,
   "metadata": {},
   "outputs": [
    {
     "name": "stdout",
     "output_type": "stream",
     "text": [
      "[6, 4]\n"
     ]
    }
   ],
   "source": [
    "def f(a):\n",
    "    b=0\n",
    "    list1=[]\n",
    "    while(a!=0):\n",
    "        b=a%10\n",
    "        if(b%2==0):\n",
    "            list1.append(b)\n",
    "        a=a//10\n",
    "    list1.reverse()\n",
    "    print(list1)\n",
    "a=5647\n",
    "f(a)"
   ]
  },
  {
   "cell_type": "code",
   "execution_count": 92,
   "metadata": {},
   "outputs": [
    {
     "name": "stdout",
     "output_type": "stream",
     "text": [
      "[1, 4, 3, 16]\n"
     ]
    }
   ],
   "source": [
    "def evennumber(a):\n",
    "    sum=0\n",
    "    for i in range(len(a)):\n",
    "        if(a[i]%2==0):\n",
    "            a[i]=a[i]**2\n",
    "    print(a)\n",
    "a=[1,2,3,4]\n",
    "evennumber(a)"
   ]
  },
  {
   "cell_type": "code",
   "execution_count": 94,
   "metadata": {},
   "outputs": [
    {
     "name": "stdout",
     "output_type": "stream",
     "text": [
      "[6, 9]\n"
     ]
    }
   ],
   "source": [
    "def formatted(a):\n",
    "    b=[]\n",
    "    for i in range(len(a)):\n",
    "        if(i==0 or i==len(a)-1):\n",
    "            b.append(a[i-1]+a[i])\n",
    "    print(b)\n",
    "a=[1,2,3,4,5]\n",
    "formatted(a)"
   ]
  },
  {
   "cell_type": "code",
   "execution_count": null,
   "metadata": {},
   "outputs": [],
   "source": []
  }
 ],
 "metadata": {
  "kernelspec": {
   "display_name": "Python 3",
   "language": "python",
   "name": "python3"
  },
  "language_info": {
   "codemirror_mode": {
    "name": "ipython",
    "version": 3
   },
   "file_extension": ".py",
   "mimetype": "text/x-python",
   "name": "python",
   "nbconvert_exporter": "python",
   "pygments_lexer": "ipython3",
   "version": "3.7.3"
  }
 },
 "nbformat": 4,
 "nbformat_minor": 2
}
