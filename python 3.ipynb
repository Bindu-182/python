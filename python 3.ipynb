{
 "cells": [
  {
   "cell_type": "markdown",
   "metadata": {},
   "source": [
    "# Binary search\n",
    "### midindex=leftindex+(rightindex-leftindex)/2"
   ]
  },
  {
   "cell_type": "markdown",
   "metadata": {},
   "source": [
    "### binary search can be applied on sorted list and unique list"
   ]
  },
  {
   "cell_type": "code",
   "execution_count": 5,
   "metadata": {},
   "outputs": [
    {
     "name": "stdout",
     "output_type": "stream",
     "text": [
      "item is found\n"
     ]
    }
   ],
   "source": [
    "def binarysearch(a,lindex,rindex,taritem):\n",
    "    while lindex <= rindex:\n",
    "        mindex= lindex+(rindex+lindex)//2\n",
    "        if a[mindex]==taritem:\n",
    "            return mindex\n",
    "        if a[mindex] > taritem:\n",
    "            rindex=mindex-1\n",
    "        else:\n",
    "            lindex=mindex+1\n",
    "            return -1\n",
    "list1=[1,4,9,15,25,45,57,88,98]\n",
    "res=binarysearch(list1,0,8,1)\n",
    "if res!=-1:\n",
    "    print(\"item is found\")\n",
    "else:\n",
    "    print(\"item not found\")\n",
    "        "
   ]
  },
  {
   "cell_type": "code",
   "execution_count": 8,
   "metadata": {},
   "outputs": [
    {
     "name": "stdout",
     "output_type": "stream",
     "text": [
      "1 3 6 18 19 25 "
     ]
    }
   ],
   "source": [
    "def bubblesort(a):\n",
    "    for i in  range(len(a)-1):\n",
    "        for j in range(len(a)-1):\n",
    "            if a[j]>a[j+1]:\n",
    "                a[j],a[j+1]=a[j+1],a[j]\n",
    "    \n",
    "    for i in range(len(a)):\n",
    "        print(a[i],end=\" \")\n",
    "\n",
    "list1=[19,1,25,6,18,3]\n",
    "bubblesort(list1)"
   ]
  },
  {
   "cell_type": "markdown",
   "metadata": {},
   "source": [
    "## strings in python\n",
    "### a string in a python is a sequential characters\n",
    "### conversion of characters happen with ASCII nnumbers\n",
    "#### ASCII   A-Z ------ 65 TO 90\n",
    "####              a-z ------- 97-122\n",
    "####              0-9------- 48-57"
   ]
  },
  {
   "cell_type": "code",
   "execution_count": 9,
   "metadata": {},
   "outputs": [
    {
     "name": "stdout",
     "output_type": "stream",
     "text": [
      "aplication\n",
      "application\n",
      "apllication test\n",
      "         working\n",
      "         completed\n",
      "         list\n",
      "         string\n",
      "         python\n"
     ]
    }
   ],
   "source": [
    "# create a string\n",
    "str = \"aplication\"\n",
    "print(str)\n",
    "\n",
    "str1='application'\n",
    "print(str1)\n",
    "\n",
    "str2=\"\"\"apllication test\n",
    "         working\n",
    "         completed\n",
    "         list\n",
    "         string\n",
    "         python\"\"\"\n",
    "print(str2)"
   ]
  },
  {
   "cell_type": "code",
   "execution_count": 25,
   "metadata": {},
   "outputs": [
    {
     "name": "stdout",
     "output_type": "stream",
     "text": [
      "application\n",
      "str[0]= a\n",
      "str[1]= p\n",
      "str[-1]= n\n",
      "str[-3]= i\n",
      "str[1:5]= ppli\n",
      "str[:5]= appli\n",
      "str[:-5]= applic\n",
      "str[5:-2]= cati\n",
      "str[::-1]= noitacilppa\n",
      "str[5::-4]= cp\n"
     ]
    }
   ],
   "source": [
    "str = \"application\"\n",
    "print(str)\n",
    "print(\"str[0]=\",str[0])\n",
    "print(\"str[1]=\",str[1])\n",
    "print(\"str[-1]=\",str[-1])\n",
    "print(\"str[-3]=\",str[-3])\n",
    "print(\"str[1:5]=\",str[1:5])\n",
    "print(\"str[:5]=\",str[:5])\n",
    "print(\"str[:-5]=\",str[:-5])\n",
    "print(\"str[5:-2]=\",str[5:-2])\n",
    "print(\"str[::-1]=\",str[::-1])\n",
    "print(\"str[5::-4]=\",str[5::-4])"
   ]
  },
  {
   "cell_type": "markdown",
   "metadata": {},
   "source": [
    "##  palindrome of a string"
   ]
  },
  {
   "cell_type": "code",
   "execution_count": 17,
   "metadata": {},
   "outputs": [
    {
     "name": "stdout",
     "output_type": "stream",
     "text": [
      "True\n"
     ]
    }
   ],
   "source": [
    "def ispalindrome(s):\n",
    "    if s == s[::-1]:\n",
    "        return True\n",
    "    else:\n",
    "        return False\n",
    "print(ispalindrome(\"mom\"))\n"
   ]
  },
  {
   "cell_type": "markdown",
   "metadata": {},
   "source": [
    "# Count digits of number"
   ]
  },
  {
   "cell_type": "code",
   "execution_count": 24,
   "metadata": {},
   "outputs": [
    {
     "data": {
      "text/plain": [
       "5"
      ]
     },
     "execution_count": 24,
     "metadata": {},
     "output_type": "execute_result"
    }
   ],
   "source": [
    "def countDigits(str):\n",
    "    return len(str)\n",
    "\n",
    "countDigits(\"34561\")"
   ]
  },
  {
   "cell_type": "code",
   "execution_count": 20,
   "metadata": {},
   "outputs": [
    {
     "data": {
      "text/plain": [
       "12"
      ]
     },
     "execution_count": 20,
     "metadata": {},
     "output_type": "execute_result"
    }
   ],
   "source": [
    "def countofchars(strs):\n",
    "    return len(strs)\n",
    "countofchars(\"applications\")"
   ]
  },
  {
   "cell_type": "markdown",
   "metadata": {},
   "source": [
    "###  count of upper case character"
   ]
  },
  {
   "cell_type": "code",
   "execution_count": 34,
   "metadata": {},
   "outputs": [
    {
     "data": {
      "text/plain": [
       "7"
      ]
     },
     "execution_count": 34,
     "metadata": {},
     "output_type": "execute_result"
    }
   ],
   "source": [
    "def countuppercase(str):\n",
    "    count=0\n",
    "    lst=list(str)\n",
    "    for x in range(len(lst)):\n",
    "        if ord(lst[x])>=97 and ord(lst[x])<=122:\n",
    "            count=count+1\n",
    "    return count\n",
    "\n",
    "countuppercase(\"ApplIcaTioN\")"
   ]
  },
  {
   "cell_type": "markdown",
   "metadata": {},
   "source": [
    "# add even digits in string\n",
    "\n",
    "## test cases:-\n",
    "### application1889 ---- 16\n",
    "### te1591st  ----- 0\n",
    "### wor7582k ---- 10"
   ]
  },
  {
   "cell_type": "code",
   "execution_count": 38,
   "metadata": {},
   "outputs": [
    {
     "name": "stdout",
     "output_type": "stream",
     "text": [
      "16\n"
     ]
    }
   ],
   "source": [
    "def sumevendigits(str):\n",
    "    sum=0\n",
    "    lst=list(str)\n",
    "    for x in range(len(lst)):\n",
    "        if ord(lst[x])>= 48 and ord(lst[x])<=57:\n",
    "               ac=ord(lst[x])-48\n",
    "               if(ac%2==0):\n",
    "                    sum=sum+ac\n",
    "    return sum\n",
    "print(sumevendigits(\"application1889\"))"
   ]
  },
  {
   "cell_type": "markdown",
   "metadata": {},
   "source": [
    "# string character conversion\n",
    "\n",
    "## if input character is a uppercase character and then convert to lower case vice versa"
   ]
  },
  {
   "cell_type": "markdown",
   "metadata": {},
   "source": [
    "### test cases:\n",
    "### AppLicaTIon ---- aPPlICAtiON"
   ]
  },
  {
   "cell_type": "code",
   "execution_count": 42,
   "metadata": {},
   "outputs": [
    {
     "ename": "NameError",
     "evalue": "name 's' is not defined",
     "output_type": "error",
     "traceback": [
      "\u001b[1;31m---------------------------------------------------------------------------\u001b[0m",
      "\u001b[1;31mNameError\u001b[0m                                 Traceback (most recent call last)",
      "\u001b[1;32m<ipython-input-42-c0e6ad5f97a0>\u001b[0m in \u001b[0;36m<module>\u001b[1;34m\u001b[0m\n\u001b[0;32m      7\u001b[0m             \u001b[0mlst\u001b[0m\u001b[1;33m[\u001b[0m\u001b[0mx\u001b[0m\u001b[1;33m]\u001b[0m\u001b[1;33m=\u001b[0m\u001b[0mord\u001b[0m\u001b[1;33m(\u001b[0m\u001b[0mlst\u001b[0m\u001b[1;33m[\u001b[0m\u001b[0ms\u001b[0m\u001b[1;33m]\u001b[0m\u001b[1;33m)\u001b[0m\u001b[1;33m-\u001b[0m\u001b[1;36m32\u001b[0m\u001b[1;33m\u001b[0m\u001b[1;33m\u001b[0m\u001b[0m\n\u001b[0;32m      8\u001b[0m     \u001b[1;32mreturn\u001b[0m \u001b[0mstr\u001b[0m\u001b[1;33m\u001b[0m\u001b[1;33m\u001b[0m\u001b[0m\n\u001b[1;32m----> 9\u001b[1;33m \u001b[0mcaseConversion\u001b[0m\u001b[1;33m(\u001b[0m\u001b[1;34m\"AppLicaTIon\"\u001b[0m\u001b[1;33m)\u001b[0m\u001b[1;33m\u001b[0m\u001b[1;33m\u001b[0m\u001b[0m\n\u001b[0m",
      "\u001b[1;32m<ipython-input-42-c0e6ad5f97a0>\u001b[0m in \u001b[0;36mcaseConversion\u001b[1;34m(str)\u001b[0m\n\u001b[0;32m      5\u001b[0m             \u001b[0mlst\u001b[0m\u001b[1;33m[\u001b[0m\u001b[0mx\u001b[0m\u001b[1;33m]\u001b[0m \u001b[1;33m=\u001b[0m \u001b[0mchr\u001b[0m\u001b[1;33m(\u001b[0m\u001b[0mord\u001b[0m\u001b[1;33m(\u001b[0m\u001b[0mlst\u001b[0m\u001b[1;33m[\u001b[0m\u001b[0mx\u001b[0m\u001b[1;33m]\u001b[0m\u001b[1;33m)\u001b[0m\u001b[1;33m+\u001b[0m\u001b[1;36m32\u001b[0m\u001b[1;33m)\u001b[0m\u001b[1;33m\u001b[0m\u001b[1;33m\u001b[0m\u001b[0m\n\u001b[0;32m      6\u001b[0m         \u001b[1;32melif\u001b[0m \u001b[0mord\u001b[0m\u001b[1;33m(\u001b[0m\u001b[0mlst\u001b[0m\u001b[1;33m[\u001b[0m\u001b[0mx\u001b[0m\u001b[1;33m]\u001b[0m\u001b[1;33m)\u001b[0m\u001b[1;33m>=\u001b[0m\u001b[1;36m97\u001b[0m \u001b[1;32mand\u001b[0m \u001b[0mord\u001b[0m\u001b[1;33m(\u001b[0m\u001b[0mlst\u001b[0m\u001b[1;33m[\u001b[0m\u001b[0mx\u001b[0m\u001b[1;33m]\u001b[0m\u001b[1;33m)\u001b[0m\u001b[1;33m<=\u001b[0m\u001b[1;36m122\u001b[0m\u001b[1;33m:\u001b[0m\u001b[1;33m\u001b[0m\u001b[1;33m\u001b[0m\u001b[0m\n\u001b[1;32m----> 7\u001b[1;33m             \u001b[0mlst\u001b[0m\u001b[1;33m[\u001b[0m\u001b[0mx\u001b[0m\u001b[1;33m]\u001b[0m\u001b[1;33m=\u001b[0m\u001b[0mord\u001b[0m\u001b[1;33m(\u001b[0m\u001b[0mlst\u001b[0m\u001b[1;33m[\u001b[0m\u001b[0ms\u001b[0m\u001b[1;33m]\u001b[0m\u001b[1;33m)\u001b[0m\u001b[1;33m-\u001b[0m\u001b[1;36m32\u001b[0m\u001b[1;33m\u001b[0m\u001b[1;33m\u001b[0m\u001b[0m\n\u001b[0m\u001b[0;32m      8\u001b[0m     \u001b[1;32mreturn\u001b[0m \u001b[0mstr\u001b[0m\u001b[1;33m\u001b[0m\u001b[1;33m\u001b[0m\u001b[0m\n\u001b[0;32m      9\u001b[0m \u001b[0mcaseConversion\u001b[0m\u001b[1;33m(\u001b[0m\u001b[1;34m\"AppLicaTIon\"\u001b[0m\u001b[1;33m)\u001b[0m\u001b[1;33m\u001b[0m\u001b[1;33m\u001b[0m\u001b[0m\n",
      "\u001b[1;31mNameError\u001b[0m: name 's' is not defined"
     ]
    }
   ],
   "source": [
    "def caseConversion(str):\n",
    "    lst=list(str)\n",
    "    for x in range(len(lst)):\n",
    "        if ord(lst[x])>=65 and ord(lst[x])<=90:\n",
    "            lst[x] = chr(ord(lst[x])+32)\n",
    "        elif ord(lst[x])>=97 and ord(lst[x])<=122:\n",
    "            lst[x]=ord(lst[s])-32\n",
    "    return str\n",
    "caseConversion(\"AppLicaTIon\")"
   ]
  },
  {
   "cell_type": "code",
   "execution_count": null,
   "metadata": {},
   "outputs": [],
   "source": []
  }
 ],
 "metadata": {
  "kernelspec": {
   "display_name": "Python 3",
   "language": "python",
   "name": "python3"
  },
  "language_info": {
   "codemirror_mode": {
    "name": "ipython",
    "version": 3
   },
   "file_extension": ".py",
   "mimetype": "text/x-python",
   "name": "python",
   "nbconvert_exporter": "python",
   "pygments_lexer": "ipython3",
   "version": "3.7.3"
  }
 },
 "nbformat": 4,
 "nbformat_minor": 2
}
